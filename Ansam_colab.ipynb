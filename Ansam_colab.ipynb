{
  "nbformat": 4,
  "nbformat_minor": 0,
  "metadata": {
    "colab": {
      "provenance": []
    },
    "kernelspec": {
      "name": "python3",
      "display_name": "Python 3"
    },
    "language_info": {
      "name": "python"
    }
  },
  "cells": [
    {
      "cell_type": "code",
      "execution_count": 1,
      "metadata": {
        "colab": {
          "base_uri": "https://localhost:8080/"
        },
        "id": "REhzP0dlBDp9",
        "outputId": "27b8099c-97a3-48c6-99ee-aa8d3835f723"
      },
      "outputs": [
        {
          "output_type": "stream",
          "name": "stdout",
          "text": [
            "Hello Woarld\n"
          ]
        }
      ],
      "source": [
        "print(\"Hello Woarld\")\n",
        "\n"
      ]
    },
    {
      "cell_type": "code",
      "source": [
        "#!/bin/python3\n",
        "\n",
        "import math\n",
        "import os\n",
        "import random\n",
        "import re\n",
        "import sys\n",
        "\n",
        "\n",
        "\n",
        "if __name__ == '__main__':\n",
        "    n = int(input().strip())\n",
        "    if (n%2 !=0):\n",
        "       print('Weird')\n",
        "    elif(n%2==0) and (n>=2 and n<=5):\n",
        "       print('Not Weird')\n",
        "    elif( n%2==0) and (n>=6 and n<=20):\n",
        "       print('Weird')\n",
        "    elif(n%2==0) and (n>20):\n",
        "       print('Not Weird')\n",
        "\n",
        "\n",
        "\n"
      ],
      "metadata": {
        "id": "LdJ-KTPd2Xuy"
      },
      "execution_count": null,
      "outputs": []
    },
    {
      "cell_type": "code",
      "source": [
        "if __name__ == '__main__':\n",
        "    a = int(input())\n",
        "    b = int(input())\n",
        "    print(a+b)\n",
        "    print(a-b)\n",
        "    print(a*b)\n"
      ],
      "metadata": {
        "id": "Z68kJ7zr2d1W"
      },
      "execution_count": null,
      "outputs": []
    },
    {
      "cell_type": "code",
      "source": [
        "if __name__ == '__main__':\n",
        "    a = int(input())\n",
        "    b = int(input())\n",
        "    print(a//b)\n",
        "    print(a/b)\n"
      ],
      "metadata": {
        "id": "raTD4J2q2ixV"
      },
      "execution_count": null,
      "outputs": []
    },
    {
      "cell_type": "code",
      "source": [
        "if __name__ == '__main__':\n",
        "    n = int(input())\n",
        "    for i in range(n):\n",
        "        print(i*i);\n",
        "\n"
      ],
      "metadata": {
        "id": "4YILbAkR2okW"
      },
      "execution_count": null,
      "outputs": []
    },
    {
      "cell_type": "code",
      "source": [
        "def is_leap(year):\n",
        "    leap = False\n",
        "    if(year%4==0 and year%100 !=0) or (year%400==0):\n",
        "       # your logic here\n",
        "       leap = True\n",
        "    return leap\n",
        "\n",
        "year = int(input())\n",
        "print(is_leap(year))"
      ],
      "metadata": {
        "id": "IDctqJ9b2tVF"
      },
      "execution_count": null,
      "outputs": []
    },
    {
      "cell_type": "code",
      "source": [
        "if __name__ == '__main__':\n",
        "    x = int(input())\n",
        "    y = int(input())\n",
        "    z = int(input())\n",
        "    n = int(input())\n",
        "    result= [[i,j,m] for i in range(0,x+1)\n",
        "        for j in range(0,y+1)\n",
        "            for m in range (0,z+1)\n",
        "                if((i+j+m!=n))]\n",
        "print(result);\n"
      ],
      "metadata": {
        "id": "GjKhjM5y2ztY"
      },
      "execution_count": null,
      "outputs": []
    },
    {
      "cell_type": "code",
      "source": [
        "if __name__ == '__main__':\n",
        "    n = int(input())\n",
        "    arr = map(int, input().split())\n",
        "\n",
        "    print(sorted(set(arr))[-2])\n",
        "\n"
      ],
      "metadata": {
        "id": "t6e4xK8326CR"
      },
      "execution_count": null,
      "outputs": []
    },
    {
      "cell_type": "code",
      "source": [
        "if __name__ == '__main__':\n",
        "    for _ in range(int(input())):\n",
        "        name = input()\n",
        "        score = float(input())\n",
        "        lst=[]\n",
        "        lst.append([name, score])\n",
        "    scorelst=sorted(set([x[1] for x in lst]))\n",
        "    findname=sorted([y[0] for y in lst if (scorelst[1]==y[1])])\n",
        "    for z in findname:\n",
        "        print(z)"
      ],
      "metadata": {
        "id": "9InytzhxDTre"
      },
      "execution_count": null,
      "outputs": []
    }
  ]
}